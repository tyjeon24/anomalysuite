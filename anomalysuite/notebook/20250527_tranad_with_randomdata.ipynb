{
 "cells": [
  {
   "cell_type": "code",
   "execution_count": null,
   "id": "8ab0896a",
   "metadata": {},
   "outputs": [],
   "source": [
    "import os\n",
    "import sys\n",
    "sys.path.insert(0, \"/root/projects/anomalysuite\")\n",
    "parent_dir = os.path.abspath(os.path.join(os.getcwd(), '..'))\n"
   ]
  },
  {
   "cell_type": "code",
   "execution_count": null,
   "id": "57067fb0",
   "metadata": {},
   "outputs": [],
   "source": [
    "from anomalysuite.data.random_data import RandomDataGenerator\n",
    "from anomalysuite.reconstructor.tranad import TranAD\n",
    "\n",
    "from torch.utils.data.dataloader import DataLoader\n",
    "from torch.utils.data.dataset import TensorDataset\n",
    "\n",
    "import torch\n",
    "\n",
    "SEQUNECE_LENGTH = 50\n",
    "NUMBER_OF_FEATURES = 3\n"
   ]
  },
  {
   "cell_type": "code",
   "execution_count": null,
   "id": "fa8a2a30",
   "metadata": {},
   "outputs": [],
   "source": [
    "data_generator = RandomDataGenerator(length=10000,anomaly_length=100, features=NUMBER_OF_FEATURES, seed=42)\n",
    "df = data_generator.get_data()\n",
    "data_generator.plot()"
   ]
  },
  {
   "cell_type": "code",
   "execution_count": null,
   "id": "ee684f5a",
   "metadata": {},
   "outputs": [],
   "source": [
    "df"
   ]
  },
  {
   "cell_type": "code",
   "execution_count": null,
   "id": "523a6e39",
   "metadata": {},
   "outputs": [],
   "source": []
  },
  {
   "cell_type": "code",
   "execution_count": null,
   "id": "c419e3ed",
   "metadata": {},
   "outputs": [],
   "source": [
    "data_tensor = torch.FloatTensor(df.values) # (10000,3)\n",
    "rolled_tensor = data_tensor.unfold(0, SEQUNECE_LENGTH, 1) # (9951, 3, 50)\n",
    "rolled_tensor = rolled_tensor.permute(0, 2, 1)\n",
    "dataset = TensorDataset(rolled_tensor, rolled_tensor)\n",
    "print(rolled_tensor.shape) # torch.Size([9951, 3, 50])\n",
    "print(dataset[0][0].shape) # torch.Size([3, 50])"
   ]
  },
  {
   "cell_type": "code",
   "execution_count": null,
   "id": "a67c0d47",
   "metadata": {},
   "outputs": [],
   "source": [
    "model = TranAD(sequence_length=SEQUNECE_LENGTH, number_of_features=NUMBER_OF_FEATURES)"
   ]
  },
  {
   "cell_type": "code",
   "execution_count": null,
   "id": "217360da",
   "metadata": {},
   "outputs": [],
   "source": [
    "import lightning as L\n",
    "trainer = L.Trainer(max_epochs=1)\n",
    "\n",
    "trainer.fit(model, DataLoader(dataset, batch_size=32))"
   ]
  },
  {
   "cell_type": "code",
   "execution_count": null,
   "id": "eab4a1ab",
   "metadata": {},
   "outputs": [],
   "source": []
  }
 ],
 "metadata": {
  "kernelspec": {
   "display_name": ".venv",
   "language": "python",
   "name": "python3"
  },
  "language_info": {
   "codemirror_mode": {
    "name": "ipython",
    "version": 3
   },
   "file_extension": ".py",
   "mimetype": "text/x-python",
   "name": "python",
   "nbconvert_exporter": "python",
   "pygments_lexer": "ipython3",
   "version": "3.10.12"
  }
 },
 "nbformat": 4,
 "nbformat_minor": 5
}
