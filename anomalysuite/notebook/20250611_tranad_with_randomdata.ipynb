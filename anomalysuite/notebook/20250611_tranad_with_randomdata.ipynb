{
 "cells": [
  {
   "cell_type": "code",
   "execution_count": 8,
   "id": "8ab0896a",
   "metadata": {},
   "outputs": [],
   "source": [
    "import sys\n",
    "from pathlib import Path\n",
    "\n",
    "if \"__file__\" in globals():\n",
    "    ROOT = Path(__file__).resolve().parent.parent\n",
    "else:\n",
    "    ROOT = Path().resolve().parent.parent\n",
    "\n",
    "if str(ROOT) not in sys.path:\n",
    "    sys.path.append(str(ROOT))"
   ]
  },
  {
   "cell_type": "code",
   "execution_count": 11,
   "id": "57067fb0",
   "metadata": {},
   "outputs": [],
   "source": [
    "from anomalysuite.data.random_data import RandomDataGenerator\n",
    "from anomalysuite.reconstructor.tranad import TranAD\n",
    "import lightning as L\n",
    "from lightning.pytorch.callbacks.early_stopping import EarlyStopping\n",
    "\n",
    "\n",
    "from torch.utils.data.dataloader import DataLoader\n",
    "from torch.utils.data.dataset import TensorDataset\n",
    "import pandas as pd\n",
    "import torch\n",
    "\n",
    "BATCH_SIZE = 64\n",
    "SEQUNECE_LENGTH = 50\n",
    "NUMBER_OF_FEATURES = 3"
   ]
  },
  {
   "cell_type": "code",
   "execution_count": null,
   "id": "fa8a2a30",
   "metadata": {},
   "outputs": [],
   "source": [
    "data_generator = RandomDataGenerator(length=10000, anomaly_length=100, features=NUMBER_OF_FEATURES, seed=42)\n",
    "df = data_generator.get_data()\n",
    "data_generator.plot()"
   ]
  },
  {
   "cell_type": "code",
   "execution_count": null,
   "id": "ee684f5a",
   "metadata": {},
   "outputs": [],
   "source": [
    "length = len(df)\n",
    "df_train = df.iloc[: int(length * 0.5)]\n",
    "df_val = df.iloc[int(length * 0.5) : int(length * 0.7)]\n",
    "df_pred = df.iloc[int(length * 0.7) :]\n",
    "\n",
    "\n",
    "def df_to_dataloader(df: pd.DataFrame, batch_size: int) -> DataLoader:\n",
    "    \"\"\"Convert pandas DataFrame to torch DataLoader.\n",
    "\n",
    "    pandas DataFrame data will be windowed(rolled) to use on TranAD model.\n",
    "    for example) if df has 10000 rows and 3 columns: (10000,3)\n",
    "    it will be shaped (9951, 3, 50) when the sequence length is 50.\n",
    "    then dataloader will pass this data with the shape of (batch_size, 3, 50)\n",
    "\n",
    "    Args:\n",
    "        df: pandas DataFrame\n",
    "        batch_size: batch size for DataLoader.\n",
    "\n",
    "    Returns:\n",
    "        torch DataLoader.\n",
    "\n",
    "    \"\"\"\n",
    "    data_tensor = torch.FloatTensor(df.values)\n",
    "    rolled_tensor = data_tensor.unfold(0, SEQUNECE_LENGTH, 1)\n",
    "    rolled_tensor = rolled_tensor.permute(0, 2, 1)\n",
    "    dataset = TensorDataset(rolled_tensor, rolled_tensor)\n",
    "    return DataLoader(dataset, batch_size=batch_size, num_workers=10)\n",
    "\n",
    "\n",
    "train_dataloader = df_to_dataloader(df_train, batch_size=BATCH_SIZE)\n",
    "val_dataloader = df_to_dataloader(df_val, batch_size=BATCH_SIZE)\n",
    "pred_dataloader = df_to_dataloader(df_pred, batch_size=BATCH_SIZE)"
   ]
  },
  {
   "cell_type": "code",
   "execution_count": null,
   "id": "217360da",
   "metadata": {},
   "outputs": [],
   "source": [
    "model = TranAD(\n",
    "    sequence_length=SEQUNECE_LENGTH, number_of_features=NUMBER_OF_FEATURES, dim_feedforward=1024, num_layers=4\n",
    ")\n",
    "\n",
    "trainer = L.Trainer(callbacks=[EarlyStopping(monitor=\"val_loss\", patience=5)])\n",
    "trainer.fit(model, train_dataloaders=train_dataloader, val_dataloaders=val_dataloader)"
   ]
  },
  {
   "cell_type": "code",
   "execution_count": null,
   "id": "72497e56",
   "metadata": {},
   "outputs": [],
   "source": [
    "pred = trainer.predict(model, pred_dataloader)"
   ]
  },
  {
   "cell_type": "code",
   "execution_count": null,
   "id": "aef60ec0",
   "metadata": {},
   "outputs": [],
   "source": [
    "pd.concat([pd.DataFrame(pred[0][0]), pd.DataFrame(list(pred_dataloader)[0][0][0])], axis=1).plot()"
   ]
  }
 ],
 "metadata": {
  "kernelspec": {
   "display_name": ".venv",
   "language": "python",
   "name": "python3"
  },
  "language_info": {
   "codemirror_mode": {
    "name": "ipython",
    "version": 3
   },
   "file_extension": ".py",
   "mimetype": "text/x-python",
   "name": "python",
   "nbconvert_exporter": "python",
   "pygments_lexer": "ipython3",
   "version": "3.10.12"
  }
 },
 "nbformat": 4,
 "nbformat_minor": 5
}
